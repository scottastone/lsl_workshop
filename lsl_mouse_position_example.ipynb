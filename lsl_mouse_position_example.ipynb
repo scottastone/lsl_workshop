{
 "cells": [
  {
   "cell_type": "markdown",
   "id": "fd8fa444",
   "metadata": {},
   "source": [
    "# Example: loading the data we just recorded and plotting it"
   ]
  },
  {
   "cell_type": "code",
   "execution_count": null,
   "id": "a261d681",
   "metadata": {},
   "outputs": [],
   "source": [
    "import liesl\n",
    "import matplotlib.pyplot as plt"
   ]
  },
  {
   "cell_type": "code",
   "execution_count": null,
   "id": "c68ae4ac",
   "metadata": {},
   "outputs": [],
   "source": [
    "# Read the file and extract the data \n",
    "file = liesl.XDFFile('mouse.xdf')\n",
    "position = file['MousePosition'].time_series\n",
    "x, y = position.T"
   ]
  },
  {
   "cell_type": "code",
   "execution_count": null,
   "id": "7e54c7b2",
   "metadata": {},
   "outputs": [],
   "source": [
    "# Plot the data (with an inverted y axis)\n",
    "plt.scatter(x, y, marker='.')\n",
    "plt.gca().invert_yaxis()\n",
    "plt.show()"
   ]
  },
  {
   "cell_type": "code",
   "execution_count": null,
   "id": "5bb39566",
   "metadata": {},
   "outputs": [],
   "source": []
  }
 ],
 "metadata": {
  "kernelspec": {
   "display_name": "Python 3 (ipykernel)",
   "language": "python",
   "name": "python3"
  },
  "language_info": {
   "codemirror_mode": {
    "name": "ipython",
    "version": 3
   },
   "file_extension": ".py",
   "mimetype": "text/x-python",
   "name": "python",
   "nbconvert_exporter": "python",
   "pygments_lexer": "ipython3",
   "version": "3.9.5"
  }
 },
 "nbformat": 4,
 "nbformat_minor": 5
}
